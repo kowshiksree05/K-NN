{
  "nbformat": 4,
  "nbformat_minor": 0,
  "metadata": {
    "colab": {
      "provenance": []
    },
    "kernelspec": {
      "name": "python3",
      "display_name": "Python 3"
    },
    "language_info": {
      "name": "python"
    }
  },
  "cells": [
    {
      "cell_type": "code",
      "execution_count": 1,
      "metadata": {
        "id": "YN_SZlX0R-XU"
      },
      "outputs": [],
      "source": [
        "import numpy as np\n",
        "import pandas as pd\n",
        "from collections import Counter\n",
        "from sklearn.model_selection import train_test_split\n",
        "import matplotlib.pyplot as plt"
      ]
    },
    {
      "cell_type": "markdown",
      "source": [
        "Load Dataset"
      ],
      "metadata": {
        "id": "or4Ezm4Ttb_7"
      }
    },
    {
      "cell_type": "code",
      "source": [
        "# Load the dataset\n",
        "df = pd.read_csv('/content/KNNAlgorithmDataset.csv')"
      ],
      "metadata": {
        "id": "6vyVbnMutaWg"
      },
      "execution_count": 2,
      "outputs": []
    },
    {
      "cell_type": "markdown",
      "source": [
        "Split features (X) and labels (y)"
      ],
      "metadata": {
        "id": "1RrJEvNothUw"
      }
    },
    {
      "cell_type": "code",
      "source": [
        "X = df.iloc[:,2:-1].values  # All rows and all columns except the last one (features)\n",
        "y = df.iloc[:,1].values     # All rows, only the last column (Species)"
      ],
      "metadata": {
        "id": "ja270IGCtiHf"
      },
      "execution_count": 3,
      "outputs": []
    },
    {
      "cell_type": "code",
      "source": [
        "# Split the last row as the testing set (the one with the missing label)\n",
        "X = X[:-1]  # Exclude the last row for training\n",
        "y = y[:-1]"
      ],
      "metadata": {
        "id": "61KvxjNHtmmh"
      },
      "execution_count": 4,
      "outputs": []
    },
    {
      "cell_type": "markdown",
      "source": [
        "Split data into training and testing sets"
      ],
      "metadata": {
        "id": "jW4seA97tvEW"
      }
    },
    {
      "cell_type": "code",
      "source": [
        "X_train, X_test, y_train, y_test = train_test_split(X, y, test_size=0.3, random_state=0)"
      ],
      "metadata": {
        "id": "q0P-Gq67tv2h"
      },
      "execution_count": 5,
      "outputs": []
    },
    {
      "cell_type": "code",
      "source": [
        "# Display the shapes of the training and test sets\n",
        "print(\"Training features shape:\", X_train.shape)\n",
        "print(\"Training labels shape:\", y_train.shape)\n",
        "print(\"Test features shape:\", X_test.shape)\n",
        "print(\"Test labels shape:\", y_test.shape)"
      ],
      "metadata": {
        "colab": {
          "base_uri": "https://localhost:8080/"
        },
        "id": "kqhfX90lt1t8",
        "outputId": "f712b553-c4b1-4306-9dee-de0597c7538e"
      },
      "execution_count": 6,
      "outputs": [
        {
          "output_type": "stream",
          "name": "stdout",
          "text": [
            "Training features shape: (397, 30)\n",
            "Training labels shape: (397,)\n",
            "Test features shape: (171, 30)\n",
            "Test labels shape: (171,)\n"
          ]
        }
      ]
    },
    {
      "cell_type": "code",
      "source": [
        "# Euclidean distance function\n",
        "def euclidean_distance(point1, point2):\n",
        "    return np.sqrt(np.sum((point1 - point2) ** 2))"
      ],
      "metadata": {
        "id": "nkVCiOEzt92h"
      },
      "execution_count": 7,
      "outputs": []
    },
    {
      "cell_type": "markdown",
      "source": [
        "K-NN prediction function"
      ],
      "metadata": {
        "id": "3cdXUE6zuEs0"
      }
    },
    {
      "cell_type": "code",
      "source": [
        "def knn_predict(X_train, y_train, X_test, k):\n",
        "    predictions = []\n",
        "    # Loop through each test point\n",
        "    for test_point in X_test:\n",
        "        distances = []\n",
        "        # Calculate distances between the test point and all training points\n",
        "        for i in range(len(X_train)):\n",
        "            dist = euclidean_distance(test_point, X_train[i])\n",
        "            distances.append((dist, y_train[i]))\n",
        "        # Sort based on distance and select the k nearest neighbors\n",
        "        distances.sort(key=lambda x: x[0])\n",
        "        k_nearest_neighbors = [distances[i][1] for i in range(k)]\n",
        "        # Determine the most common class label\n",
        "        most_common = Counter(k_nearest_neighbors).most_common(1)[0][0]\n",
        "        predictions.append(most_common)\n",
        "    return predictions"
      ],
      "metadata": {
        "id": "RSEjMxHkuGJu"
      },
      "execution_count": 8,
      "outputs": []
    },
    {
      "cell_type": "code",
      "source": [
        "# Function to calculate accuracy\n",
        "def calculate_accuracy(y_true, y_pred):\n",
        "    return np.sum(np.array(y_pred) == y_true) / len(y_true)\n"
      ],
      "metadata": {
        "id": "k_Hh7Ag3uMFP"
      },
      "execution_count": 9,
      "outputs": []
    },
    {
      "cell_type": "code",
      "source": [
        "# Confusion matrix function\n",
        "def confusion_matrix(y_true, y_pred):\n",
        "    classes = np.unique(y_true)\n",
        "    matrix = np.zeros((len(classes), len(classes)), dtype=int)\n",
        "    class_to_index = {label: idx for idx, label in enumerate(classes)}\n",
        "\n",
        "    for true_label, pred_label in zip(y_true, y_pred):\n",
        "        matrix[class_to_index[true_label], class_to_index[pred_label]] += 1\n",
        "\n",
        "    return matrix"
      ],
      "metadata": {
        "id": "5L5Lxh-RuPrJ"
      },
      "execution_count": 10,
      "outputs": []
    },
    {
      "cell_type": "code",
      "source": [
        "# Predict the labels for the entire test set\n",
        "print(\"Enter k:\")\n",
        "k = int(input())\n",
        "y_pred = knn_predict(X_train, y_train, X_test, k)"
      ],
      "metadata": {
        "colab": {
          "base_uri": "https://localhost:8080/"
        },
        "id": "l2kEq0gDuTou",
        "outputId": "19d307f2-219b-4f3d-f897-287ac87ff43f"
      },
      "execution_count": 11,
      "outputs": [
        {
          "name": "stdout",
          "output_type": "stream",
          "text": [
            "Enter k:\n",
            "5\n"
          ]
        }
      ]
    },
    {
      "cell_type": "code",
      "source": [
        "# Compare predictions with the actual test labels\n",
        "print(\"\\nPredicted labels for the test set:\", y_pred)\n",
        "print(\"Actual labels for the test set:   \", list(y_test))"
      ],
      "metadata": {
        "colab": {
          "base_uri": "https://localhost:8080/"
        },
        "id": "IZEd2937ubA5",
        "outputId": "109b81d0-7a1d-41cd-aca7-dd6a24c1a65f"
      },
      "execution_count": 12,
      "outputs": [
        {
          "output_type": "stream",
          "name": "stdout",
          "text": [
            "\n",
            "Predicted labels for the test set: ['M', 'B', 'B', 'M', 'B', 'B', 'B', 'B', 'B', 'B', 'B', 'B', 'B', 'M', 'M', 'M', 'B', 'M', 'M', 'M', 'M', 'M', 'B', 'B', 'M', 'B', 'B', 'B', 'B', 'M', 'B', 'M', 'B', 'M', 'B', 'M', 'B', 'M', 'B', 'M', 'M', 'B', 'M', 'B', 'M', 'M', 'B', 'B', 'B', 'M', 'M', 'B', 'M', 'B', 'B', 'B', 'B', 'B', 'B', 'M', 'M', 'M', 'B', 'B', 'M', 'B', 'M', 'M', 'M', 'B', 'B', 'M', 'B', 'B', 'M', 'B', 'B', 'B', 'B', 'B', 'M', 'M', 'M', 'B', 'M', 'B', 'B', 'B', 'M', 'M', 'B', 'M', 'B', 'B', 'B', 'B', 'M', 'B', 'B', 'B', 'B', 'B', 'B', 'M', 'M', 'B', 'M', 'B', 'M', 'M', 'B', 'M', 'M', 'B', 'B', 'B', 'M', 'B', 'B', 'B', 'B', 'B', 'B', 'B', 'M', 'B', 'B', 'B', 'B', 'B', 'M', 'B', 'B', 'B', 'B', 'B', 'B', 'M', 'M', 'B', 'B', 'B', 'M', 'B', 'B', 'M', 'B', 'M', 'B', 'B', 'B', 'B', 'B', 'B', 'B', 'M', 'B', 'M', 'B', 'M', 'M', 'B', 'B', 'M', 'B', 'M', 'M', 'M', 'B', 'B', 'B']\n",
            "Actual labels for the test set:    ['M', 'B', 'B', 'B', 'B', 'B', 'B', 'B', 'B', 'B', 'B', 'B', 'B', 'B', 'B', 'M', 'B', 'M', 'M', 'M', 'M', 'M', 'B', 'B', 'M', 'B', 'B', 'M', 'B', 'M', 'B', 'M', 'B', 'M', 'B', 'M', 'B', 'M', 'B', 'M', 'M', 'B', 'M', 'B', 'B', 'M', 'B', 'B', 'B', 'M', 'M', 'M', 'M', 'B', 'B', 'B', 'B', 'B', 'B', 'M', 'M', 'M', 'B', 'B', 'M', 'B', 'M', 'M', 'M', 'B', 'B', 'M', 'B', 'M', 'M', 'B', 'B', 'B', 'B', 'B', 'M', 'M', 'M', 'B', 'M', 'B', 'B', 'B', 'M', 'M', 'B', 'M', 'B', 'B', 'B', 'B', 'M', 'B', 'B', 'B', 'B', 'B', 'B', 'M', 'M', 'B', 'M', 'B', 'M', 'M', 'B', 'M', 'M', 'B', 'B', 'B', 'B', 'B', 'B', 'B', 'B', 'B', 'M', 'B', 'M', 'B', 'B', 'B', 'B', 'B', 'M', 'B', 'B', 'B', 'B', 'B', 'B', 'M', 'M', 'B', 'B', 'B', 'M', 'B', 'B', 'M', 'B', 'M', 'B', 'B', 'B', 'B', 'B', 'B', 'B', 'M', 'B', 'M', 'B', 'M', 'M', 'B', 'B', 'M', 'B', 'M', 'M', 'M', 'B', 'B', 'B']\n"
          ]
        }
      ]
    },
    {
      "cell_type": "code",
      "source": [
        "# Calculate accuracy\n",
        "accuracy = calculate_accuracy(y_test, y_pred)\n",
        "print(f\"\\nAccuracy on the test set: {accuracy * 100:.2f}%\")"
      ],
      "metadata": {
        "colab": {
          "base_uri": "https://localhost:8080/"
        },
        "id": "H1r4y9miufBN",
        "outputId": "d9d20f43-cbcf-4591-dc03-d6fbf79a1195"
      },
      "execution_count": 13,
      "outputs": [
        {
          "output_type": "stream",
          "name": "stdout",
          "text": [
            "\n",
            "Accuracy on the test set: 94.74%\n"
          ]
        }
      ]
    },
    {
      "cell_type": "code",
      "source": [
        "# Confusion Matrix\n",
        "conf_matrix = confusion_matrix(y_test, y_pred)\n",
        "print(\"\\nConfusion Matrix:\")\n",
        "print(conf_matrix)"
      ],
      "metadata": {
        "colab": {
          "base_uri": "https://localhost:8080/"
        },
        "id": "iYAdDAKgug0y",
        "outputId": "bb2f6c3d-491d-45dd-9d12-b04251d58e07"
      },
      "execution_count": 14,
      "outputs": [
        {
          "output_type": "stream",
          "name": "stdout",
          "text": [
            "\n",
            "Confusion Matrix:\n",
            "[[103   5]\n",
            " [  4  59]]\n"
          ]
        }
      ]
    },
    {
      "cell_type": "code",
      "source": [
        "# Plotting K vs Accuracy and K vs Error\n",
        "k_values = range(1, 21)\n",
        "accuracies = []\n",
        "errors = []\n",
        "\n",
        "for k in k_values:\n",
        "    y_pred_k = knn_predict(X_train, y_train, X_test, k)\n",
        "    accuracy_k = calculate_accuracy(y_test, y_pred_k)\n",
        "    accuracies.append(accuracy_k)\n",
        "    errors.append(1 - accuracy_k)  # Error is 1 - Accuracy"
      ],
      "metadata": {
        "id": "EKxdDINLuker"
      },
      "execution_count": 15,
      "outputs": []
    },
    {
      "cell_type": "code",
      "source": [
        "# Plot the K vs Accuracy and K vs Error curves\n",
        "plt.figure(figsize=(14, 6))"
      ],
      "metadata": {
        "colab": {
          "base_uri": "https://localhost:8080/",
          "height": 52
        },
        "id": "gVeXrcWZuxXc",
        "outputId": "1dd6a31e-7026-46b8-c249-d716052f8e8b"
      },
      "execution_count": 16,
      "outputs": [
        {
          "output_type": "execute_result",
          "data": {
            "text/plain": [
              "<Figure size 1400x600 with 0 Axes>"
            ]
          },
          "metadata": {},
          "execution_count": 16
        },
        {
          "output_type": "display_data",
          "data": {
            "text/plain": [
              "<Figure size 1400x600 with 0 Axes>"
            ]
          },
          "metadata": {}
        }
      ]
    },
    {
      "cell_type": "code",
      "source": [
        "# Subplot for error\n",
        "plt.subplot(1, 2, 2)\n",
        "plt.plot(k_values, errors, marker='o', linestyle='--', color='r')\n",
        "plt.title('K vs Error')\n",
        "plt.xlabel('K value')\n",
        "plt.ylabel('Error')\n",
        "plt.xticks(k_values)\n",
        "plt.grid(True)\n"
      ],
      "metadata": {
        "colab": {
          "base_uri": "https://localhost:8080/",
          "height": 472
        },
        "id": "RVWbHk0xu3KK",
        "outputId": "96b1ae4f-0055-4dc1-f4ce-d14ca5b2454f"
      },
      "execution_count": 17,
      "outputs": [
        {
          "output_type": "display_data",
          "data": {
            "text/plain": [
              "<Figure size 640x480 with 1 Axes>"
            ],
            "image/png": "[encoded data removed]"
          },
          "metadata": {}
        }
      ]
    },
    {
      "cell_type": "code",
      "source": [
        "# Subplot for accuracy\n",
        "plt.subplot(1, 2, 1)\n",
        "plt.plot(k_values, accuracies, marker='o', linestyle='--', color='b')\n",
        "plt.title('K vs Accuracy')\n",
        "plt.xlabel('K value')\n",
        "plt.ylabel('Accuracy')\n",
        "plt.xticks(k_values)\n",
        "plt.grid(True)"
      ],
      "metadata": {
        "colab": {
          "base_uri": "https://localhost:8080/",
          "height": 472
        },
        "id": "yNqHF-Ysu7x_",
        "outputId": "b1735c54-5515-4182-bf9a-91d234f41e74"
      },
      "execution_count": 18,
      "outputs": [
        {
          "output_type": "display_data",
          "data": {
            "text/plain": [
              "<Figure size 640x480 with 1 Axes>"
            ],
            "image/png": "[encoded data removed]"
          },
          "metadata": {}
        }
      ]
    },
    {
      "cell_type": "code",
      "source": [
        "# Show both plots\n",
        "plt.tight_layout()\n",
        "plt.show()"
      ],
      "metadata": {
        "colab": {
          "base_uri": "https://localhost:8080/",
          "height": 34
        },
        "id": "K52diQyZvCG6",
        "outputId": "dcad86fb-8caf-44d6-8f59-45cd49010b72"
      },
      "execution_count": 19,
      "outputs": [
        {
          "output_type": "display_data",
          "data": {
            "text/plain": [
              "<Figure size 640x480 with 0 Axes>"
            ]
          },
          "metadata": {}
        }
      ]
    },
    {
      "cell_type": "code",
      "source": [
        "# Finding the optimal K\n",
        "optimal_k = k_values[np.argmax(accuracies)]\n",
        "print(f\"\\nOptimal value of K is {optimal_k} with an accuracy of {max(accuracies) * 100:.2f}%\")\n"
      ],
      "metadata": {
        "colab": {
          "base_uri": "https://localhost:8080/"
        },
        "id": "5VOZPVWivGse",
        "outputId": "1680ae74-bcae-4e75-c98b-f76e9366ea54"
      },
      "execution_count": 20,
      "outputs": [
        {
          "output_type": "stream",
          "name": "stdout",
          "text": [
            "\n",
            "Optimal value of K is 11 with an accuracy of 96.49%\n"
          ]
        }
      ]
    }
  ]
}